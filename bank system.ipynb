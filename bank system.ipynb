{
 "cells": [
  {
   "cell_type": "code",
   "execution_count": 1,
   "id": "524df8bf",
   "metadata": {},
   "outputs": [],
   "source": [
    "\n",
    "class Customer:\n",
    "    def __init__(self, customer_id, name):\n",
    "        self.customer_id = customer_id\n",
    "        self.name = name\n",
    "        self.accounts = {}\n",
    "        self.loans = {}\n",
    "\n",
    "    def create_account(self, account_number, password, initial_balance=0):\n",
    "        account = Account(account_number, password, initial_balance)\n",
    "        self.accounts[account_number] = account\n",
    "\n",
    "    def apply_for_loan(self, loan_id, amount):\n",
    "        loan = Loan(loan_id, amount)\n",
    "        self.loans[loan_id] = loan\n",
    "\n",
    "class Account:\n",
    "    def __init__(self, account_number, password, balance=0):\n",
    "        self.account_number = account_number\n",
    "        self.password = password\n",
    "        self.balance = balance\n",
    "        self.transactions = []\n",
    "\n",
    "    def deposit(self, amount):\n",
    "        if amount > 0:\n",
    "            self.balance += amount\n",
    "            self.transactions.append(f\"Deposited ${amount}\")\n",
    "\n",
    "    def withdraw(self, amount):\n",
    "        if amount > 0 and self.balance >= amount:\n",
    "            self.balance -= amount\n",
    "            self.transactions.append(f\"Withdrew ${amount}\")\n",
    "\n",
    "    def get_balance(self):\n",
    "        return self.balance    \n",
    "\n",
    "    def get_transaction_history(self):\n",
    "        return self.transactions\n",
    "\n",
    "class Employee:\n",
    "    \n",
    "    def __init__(self, employee_id, name, role,branch='money ban'):\n",
    "        self.employee_id = employee_id\n",
    "        self.name = name\n",
    "        self.role = role\n",
    "        self.branch = branch\n",
    "       \n",
    "\n",
    "    def process_transaction(self, account, transaction_type, amount):\n",
    "        if transaction_type == \"deposit\":\n",
    "            account.deposit(amount)\n",
    "        elif transaction_type == \"withdraw\":\n",
    "            account.withdraw(amount)\n",
    "\n",
    "class Loan:\n",
    "    def __init__(self, loan_id, amount):\n",
    "        self.loan_id = loan_id\n",
    "        self.amount = amount\n",
    "class Branch:\n",
    "    def __init__(self, branch_id, name):\n",
    "        self.branch_id = branch_id\n",
    "        self.name = name\n",
    "        self.customers = {}\n",
    "        self.employees = []\n",
    "\n",
    "    def add_customer(self, customer):\n",
    "        self.customers[customer.customer_id] = customer\n",
    "\n",
    "    def add_employee(self, employee):\n",
    "        self.employees.append(employee)"
   ]
  },
  {
   "cell_type": "code",
   "execution_count": 2,
   "id": "48148865",
   "metadata": {},
   "outputs": [
    {
     "name": "stdout",
     "output_type": "stream",
     "text": [
      "Enter branch ID: 55555\n",
      "Enter branch name: money ban\n"
     ]
    }
   ],
   "source": [
    "# Create a branch\n",
    "branch_id = int(input(\"Enter branch ID: \"))\n",
    "branch_name = input(\"Enter branch name: \")\n",
    "branch = Branch(branch_id, branch_name)"
   ]
  },
  {
   "cell_type": "code",
   "execution_count": 5,
   "id": "49c94eac",
   "metadata": {},
   "outputs": [
    {
     "name": "stdout",
     "output_type": "stream",
     "text": [
      "Enter employee ID: 12345\n",
      "Enter employee name: ahmed\n"
     ]
    }
   ],
   "source": [
    "\n",
    "\n",
    "\n",
    "    employee_id = int(input(\"Enter employee ID: \"))\n",
    "    employee_name = input(\"Enter employee name: \")\n",
    "    \n",
    "    teller = Employee(employee_id, employee_name, \"Teller\")\n",
    "   \n",
    "    branch.add_employee(teller)\n",
    "   \n",
    "   "
   ]
  },
  {
   "cell_type": "code",
   "execution_count": 6,
   "id": "1cad44a9",
   "metadata": {},
   "outputs": [
    {
     "name": "stdout",
     "output_type": "stream",
     "text": [
      "Enter customer ID: 1234\n",
      "Enter customer name: omar\n"
     ]
    }
   ],
   "source": [
    "# Create a customer\n",
    "customer_id = int(input(\"Enter customer ID: \"))\n",
    "customer_name = input(\"Enter customer name: \")\n",
    "customer = Customer(customer_id, customer_name)"
   ]
  },
  {
   "cell_type": "code",
   "execution_count": 7,
   "id": "fd926237",
   "metadata": {},
   "outputs": [
    {
     "name": "stdout",
     "output_type": "stream",
     "text": [
      "Enter your account number: 1234\n",
      "Create a password: 123456789\n",
      "Enter initial balance: 0\n"
     ]
    }
   ],
   "source": [
    "# Create an account for the customer\n",
    "account_number = input(\"Enter your account number: \")\n",
    "password = input(\"Create a password: \")\n",
    "initial_balance = float(input(\"Enter initial balance: \"))\n",
    "customer.create_account(account_number, password, initial_balance)\n",
    "account = customer.accounts[account_number]"
   ]
  },
  {
   "cell_type": "code",
   "execution_count": 8,
   "id": "3019efbc",
   "metadata": {},
   "outputs": [
    {
     "name": "stdout",
     "output_type": "stream",
     "text": [
      "Enter loan amount: 100\n"
     ]
    }
   ],
   "source": [
    "# Apply for a loan\n",
    "loan_id = 0\n",
    "loan_amount = float(input(\"Enter loan amount: \"))\n",
    "customer.apply_for_loan(loan_id, loan_amount)"
   ]
  },
  {
   "cell_type": "code",
   "execution_count": null,
   "id": "6d385acc",
   "metadata": {
    "scrolled": false
   },
   "outputs": [
    {
     "name": "stdout",
     "output_type": "stream",
     "text": [
      "Enter your password: 123456789\n",
      "\n",
      "Options:\n",
      "1. Deposit\n",
      "2. Withdraw\n",
      "3. Check Balance\n",
      "4. Transaction History\n",
      "5. Apply for Loan\n",
      "6. Exit\n",
      "Enter your choice: 1\n",
      "Enter the amount: 1000\n",
      "\n",
      "Options:\n",
      "1. Deposit\n",
      "2. Withdraw\n",
      "3. Check Balance\n",
      "4. Transaction History\n",
      "5. Apply for Loan\n",
      "6. Exit\n",
      "Enter your choice: 2\n",
      "Enter the amount: 500\n",
      "\n",
      "Options:\n",
      "1. Deposit\n",
      "2. Withdraw\n",
      "3. Check Balance\n",
      "4. Transaction History\n",
      "5. Apply for Loan\n",
      "6. Exit\n",
      "Enter your choice: 3\n",
      "Current Balance: $500.0\n",
      "\n",
      "Options:\n",
      "1. Deposit\n",
      "2. Withdraw\n",
      "3. Check Balance\n",
      "4. Transaction History\n",
      "5. Apply for Loan\n",
      "6. Exit\n"
     ]
    }
   ],
   "source": [
    "# Perform transactions\n",
    "input_password = input(\"Enter your password: \")\n",
    "\n",
    "if input_password == account.password:\n",
    "    while True:\n",
    "        print(\"\\nOptions:\")\n",
    "        print(\"1. Deposit\")\n",
    "        print(\"2. Withdraw\")\n",
    "        print(\"3. Check Balance\")\n",
    "        print(\"4. Transaction History\")\n",
    "        print(\"5. Apply for Loan\")\n",
    "        print(\"6. Exit\")\n",
    "\n",
    "        choice = input(\"Enter your choice: \")\n",
    "\n",
    "        if choice in [\"1\"]:\n",
    "            amount = float(input(\"Enter the amount: \"))\n",
    "            teller.process_transaction(account,\"deposit\", amount)\n",
    "        elif choice in [\"2\"]:\n",
    "            amount = float(input(\"Enter the amount: \"))\n",
    "            teller.process_transaction(account,\"withdraw\", amount)\n",
    "        elif choice == \"3\":\n",
    "            balance = account.get_balance()\n",
    "            print(f\"Current Balance: ${balance}\")\n",
    "        elif choice == \"4\":\n",
    "            transactions = account.get_transaction_history()\n",
    "            print(\"Transaction History:\")\n",
    "            for transaction in transactions:\n",
    "                print(transaction)\n",
    "        elif choice == \"5\":\n",
    "            loan_amount = float(input(\"Enter loan amount: \"))\n",
    "            loan_id += 1\n",
    "            customer.apply_for_loan(loan_id, loan_amount)\n",
    "        elif choice == \"6\":\n",
    "            break\n",
    "        else:\n",
    "            print(\"Invalid choice. Please choose a valid option.\")\n",
    "else:\n",
    "    print(\"Invalid password. Access denied.\")"
   ]
  },
  {
   "cell_type": "code",
   "execution_count": null,
   "id": "f4f0d4d2",
   "metadata": {},
   "outputs": [],
   "source": []
  }
 ],
 "metadata": {
  "kernelspec": {
   "display_name": "Python 3 (ipykernel)",
   "language": "python",
   "name": "python3"
  },
  "language_info": {
   "codemirror_mode": {
    "name": "ipython",
    "version": 3
   },
   "file_extension": ".py",
   "mimetype": "text/x-python",
   "name": "python",
   "nbconvert_exporter": "python",
   "pygments_lexer": "ipython3",
   "version": "3.11.4"
  }
 },
 "nbformat": 4,
 "nbformat_minor": 5
}
